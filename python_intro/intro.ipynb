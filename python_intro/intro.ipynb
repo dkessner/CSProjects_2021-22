{
 "cells": [
  {
   "cell_type": "code",
   "execution_count": 3,
   "id": "72268afd-ff8a-4014-b4fe-2c4a028146ac",
   "metadata": {},
   "outputs": [
    {
     "name": "stdout",
     "output_type": "stream",
     "text": [
      "5\n"
     ]
    }
   ],
   "source": [
    "a = 5\n",
    "print(a)"
   ]
  },
  {
   "cell_type": "code",
   "execution_count": 4,
   "id": "ead745ed-cdf5-429a-b38e-4d8055afbd66",
   "metadata": {},
   "outputs": [],
   "source": [
    "from math import *\n"
   ]
  },
  {
   "cell_type": "code",
   "execution_count": 5,
   "id": "f84565c1-a119-437c-b509-1b2f35f15d11",
   "metadata": {},
   "outputs": [
    {
     "name": "stdout",
     "output_type": "stream",
     "text": [
      "2.718281828459045\n",
      "3.141592653589793\n"
     ]
    }
   ],
   "source": [
    "print(e)\n",
    "print(pi)"
   ]
  },
  {
   "cell_type": "code",
   "execution_count": 6,
   "id": "2bce4d52-2ad7-42fe-9532-2bf4712f822b",
   "metadata": {},
   "outputs": [
    {
     "name": "stdout",
     "output_type": "stream",
     "text": [
      "-1.0\n"
     ]
    }
   ],
   "source": [
    "print(cos(pi))"
   ]
  },
  {
   "cell_type": "code",
   "execution_count": 8,
   "id": "b625a82d-00d8-4f97-b9de-2093dc51cade",
   "metadata": {},
   "outputs": [
    {
     "name": "stdout",
     "output_type": "stream",
     "text": [
      "5\n",
      "7.2\n",
      "hello\n"
     ]
    }
   ],
   "source": [
    "a = 5 \n",
    "print(a)\n",
    "a = 7.2\n",
    "print(a)\n",
    "a = \"hello\"\n",
    "print(a)"
   ]
  },
  {
   "cell_type": "code",
   "execution_count": 13,
   "id": "2ea29786-cdc6-4c87-aa2a-e35aa6609c22",
   "metadata": {},
   "outputs": [
    {
     "name": "stdout",
     "output_type": "stream",
     "text": [
      "[5, 7.2, 'hello']\n",
      "5\n",
      "7.2\n",
      "hello\n",
      "[5, 7.2]\n"
     ]
    }
   ],
   "source": [
    "things = [5, 7.2, \"hello\"]\n",
    "print(things)\n",
    "print(things[0])\n",
    "print(things[1])\n",
    "print(things[-1])  # negative indices!\n",
    "print(things[0:2])    # slices"
   ]
  },
  {
   "cell_type": "code",
   "execution_count": 15,
   "id": "76da2dab-35a3-4f10-9547-931f38e9c474",
   "metadata": {},
   "outputs": [
    {
     "name": "stdout",
     "output_type": "stream",
     "text": [
      "5\n",
      "blah\n",
      "7.2\n",
      "blah\n",
      "hello\n",
      "blah\n"
     ]
    }
   ],
   "source": [
    "for a in things:\n",
    "    print(a)\n",
    "    print(\"blah\")"
   ]
  },
  {
   "cell_type": "code",
   "execution_count": 17,
   "id": "896bbb06-3f18-4573-b48a-3b118490b761",
   "metadata": {},
   "outputs": [
    {
     "name": "stdout",
     "output_type": "stream",
     "text": [
      "medium\n"
     ]
    }
   ],
   "source": [
    "if things[0] > 10:\n",
    "    print(\"big\")\n",
    "elif things[0] > 4:    # else if\n",
    "    print(\"medium\")\n",
    "else:\n",
    "    print(\"small\")\n",
    "    "
   ]
  },
  {
   "cell_type": "code",
   "execution_count": 18,
   "id": "85180bcd-eb57-46ad-b381-e134cf486edc",
   "metadata": {},
   "outputs": [
    {
     "name": "stdout",
     "output_type": "stream",
     "text": [
      "6\n",
      "5\n",
      "8\n"
     ]
    }
   ],
   "source": [
    "print(2*3)\n",
    "print(2+3)\n",
    "print(2**3) # exponent"
   ]
  },
  {
   "cell_type": "code",
   "execution_count": 19,
   "id": "5ba94572-4870-45ce-878f-3dd67ca93dd5",
   "metadata": {},
   "outputs": [
    {
     "name": "stdout",
     "output_type": "stream",
     "text": [
      "1\n",
      "2\n",
      "4\n",
      "8\n",
      "16\n",
      "32\n",
      "64\n",
      "128\n",
      "256\n",
      "512\n"
     ]
    }
   ],
   "source": [
    "# print a geometric sequence\n",
    "# 1, 2, 4, 8, 16, 32, ...\n",
    "\n",
    "value = 1\n",
    "\n",
    "for i in range(10):   #  [0, 1, ..., 9]\n",
    "    print(value)\n",
    "    value *= 2        # recursive definition\n",
    "\n"
   ]
  },
  {
   "cell_type": "code",
   "execution_count": 20,
   "id": "3e4acc35-ab38-49c3-b415-c7ad31ec3f42",
   "metadata": {},
   "outputs": [
    {
     "name": "stdout",
     "output_type": "stream",
     "text": [
      "1\n",
      "2\n",
      "4\n",
      "8\n",
      "16\n",
      "32\n",
      "64\n",
      "128\n",
      "256\n",
      "512\n"
     ]
    }
   ],
   "source": [
    "# explicit definition\n",
    "\n",
    "for i in range(10):\n",
    "    print(2**i)\n"
   ]
  },
  {
   "cell_type": "code",
   "execution_count": 22,
   "id": "aef1e593-0565-423c-b7c3-1c2db72425ad",
   "metadata": {},
   "outputs": [
    {
     "name": "stdout",
     "output_type": "stream",
     "text": [
      "15\n"
     ]
    }
   ],
   "source": [
    "# sum from 1 to n\n",
    "\n",
    "n = 5\n",
    "total = 0\n",
    "\n",
    "for i in range(1, n+1):\n",
    "    total += i\n",
    "    \n",
    "print(total)\n"
   ]
  },
  {
   "cell_type": "code",
   "execution_count": 24,
   "id": "9224b583-d508-4045-9b64-c00d0e968d92",
   "metadata": {},
   "outputs": [
    {
     "name": "stdout",
     "output_type": "stream",
     "text": [
      "15\n",
      "5050\n"
     ]
    }
   ],
   "source": [
    "# function\n",
    "\n",
    "def sum(n):\n",
    "    total = 0\n",
    "    \n",
    "    for i in range(1, n+1):\n",
    "        total += i\n",
    "        \n",
    "    return total\n",
    "\n",
    "\n",
    "print(sum(5))\n",
    "print(sum(100))\n",
    "\n"
   ]
  },
  {
   "cell_type": "code",
   "execution_count": null,
   "id": "5fd24cad-485c-4e7b-800b-5c1074e84406",
   "metadata": {},
   "outputs": [],
   "source": [
    "# fizz buzz\n",
    "# print a sequence\n",
    "# Fibonacci sequence\n",
    "# factorial function\n"
   ]
  }
 ],
 "metadata": {
  "kernelspec": {
   "display_name": "Python 3 (ipykernel)",
   "language": "python",
   "name": "python3"
  },
  "language_info": {
   "codemirror_mode": {
    "name": "ipython",
    "version": 3
   },
   "file_extension": ".py",
   "mimetype": "text/x-python",
   "name": "python",
   "nbconvert_exporter": "python",
   "pygments_lexer": "ipython3",
   "version": "3.9.7"
  }
 },
 "nbformat": 4,
 "nbformat_minor": 5
}
